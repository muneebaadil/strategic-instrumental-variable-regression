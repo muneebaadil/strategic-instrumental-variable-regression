{
 "cells": [
  {
   "cell_type": "code",
   "execution_count": null,
   "metadata": {},
   "outputs": [],
   "source": [
    "import matplotlib.pyplot as plt \n",
    "import pickle\n",
    "import numpy as np\n",
    "import json"
   ]
  },
  {
   "cell_type": "code",
   "execution_count": null,
   "metadata": {},
   "outputs": [],
   "source": [
    "with open('experiments/test-run/grp_data.json', 'r') as f:\n",
    "    data=json.load(f)\n",
    "\n",
    "fig,ax=plt.subplots()\n",
    "ax.scatter(data['grp1'], data['grp0'], color='k')\n",
    "\n",
    "x= np.linspace(1, 3, 100)\n",
    "ax.plot(x, x, color='r')"
   ]
  },
  {
   "cell_type": "code",
   "execution_count": null,
   "metadata": {},
   "outputs": [],
   "source": [
    "with open(f'experiments/test-run/data', 'rb') as f:\n",
    "    data = pickle.load(f)\n",
    "err = data['error_list_mean']\n",
    "err.shape\n",
    "n_repeat, n_iters, _ = err[:, 200:].shape\n",
    "err = err[:, 200:]\n",
    "fig,ax=plt.subplots()\n",
    "ax.errorbar(range(n_iters), err.mean(axis=0)[:,0], yerr=err.std(axis=0)[:,0], label='OLS', color='red', ecolor='rosybrown')\n",
    "ax.errorbar(range(n_iters), err.mean(axis=0)[:,1], yerr=err.std(axis=0)[:,1], label='TSLS', color='blue', ecolor='lightblue')\n",
    "ax.errorbar(range(n_iters), err.mean(axis=0)[:,2], yerr=err.std(axis=0)[:,2], label='Ours', color='green', ecolor='lightgreen')\n",
    "\n",
    "# plt.xlim(200)\n",
    "ax.legend()\n",
    "ax.set_xlabel('applicants / 2')\n",
    "ax.set_ylabel('estimation error of theta star')"
   ]
  },
  {
   "cell_type": "code",
   "execution_count": null,
   "metadata": {},
   "outputs": [],
   "source": [
    "\n",
    "round=1000\n",
    "for round in (2,10, 100, 500, 1000):\n",
    "    fig,ax=plt.subplots()\n",
    "\n",
    "    # without selection data.\n",
    "    with open(f'experiments/motivation-new/tsls-round{round}-admitall/data', 'rb') as f:\n",
    "        data = pickle.load(f)\n",
    "    err = data['error_list_mean']\n",
    "    err.shape\n",
    "    assert err.ndim == 3\n",
    "    n_repeat, n_iters, _ = err.shape\n",
    "    nr1 = n_repeat\n",
    "    ax.errorbar(\n",
    "        range(n_iters), err.mean(axis=0)[:,0], yerr=err.std(axis=0)[:,0], label='OLS w/o selection', color='red', ecolor='rosybrown'\n",
    "    )\n",
    "    ax.errorbar(\n",
    "        range(n_iters), err.mean(axis=0)[:,1], yerr=err.std(axis=0)[:,1], label='TSLS w/o selection', color='green', ecolor='lightgreen'\n",
    "    )\n",
    "\n",
    "    # with selection data\n",
    "    with open(f'experiments/motivation-new/tsls-round{round}-admitsome/data', 'rb') as f:\n",
    "        data = pickle.load(f)\n",
    "    err = data['error_list_mean']\n",
    "    err.shape\n",
    "    assert err.ndim == 3\n",
    "    n_repeat, n_iters, _ = err.shape\n",
    "    nr2 = n_repeat\n",
    "\n",
    "    ax.errorbar(\n",
    "        range(n_iters), err.mean(axis=0)[:,0], yerr=err.std(axis=0)[:,0], label='OLS w/ selection', color='orange', ecolor='wheat'\n",
    "    )\n",
    "    ax.errorbar(\n",
    "        range(n_iters), err.mean(axis=0)[:,1], yerr=err.std(axis=0)[:,1], label='TSLS w/ selection', color='darkblue', ecolor='lightblue'\n",
    "    )\n",
    "\n",
    "    # common settings\n",
    "    ax.set_ylim(-.1, .25)\n",
    "    ax.legend()\n",
    "    ax.grid()\n",
    "    ax.axhline(y=0, color='k')\n",
    "\n",
    "    ax.set_title(f'rounds = {round} using n_repeats = {nr1, nr2}')\n"
   ]
  },
  {
   "cell_type": "code",
   "execution_count": null,
   "metadata": {},
   "outputs": [],
   "source": [
    "with open('experiments/20230426-090949/data', 'rb') as f:\n",
    "    d1_w_select = pickle.load(f)\n",
    "with open('experiments/20230426-090916/data', 'rb') as f:\n",
    "    d1_wo_select = pickle.load(f)\n",
    "    "
   ]
  },
  {
   "cell_type": "code",
   "execution_count": null,
   "metadata": {},
   "outputs": [],
   "source": [
    "err_w_select = d1_w_select['error_list_mean']\n",
    "err_wo_select = d1_wo_select['error_list_mean']"
   ]
  },
  {
   "cell_type": "code",
   "execution_count": null,
   "metadata": {},
   "outputs": [],
   "source": [
    "err_w_select.shape, err_wo_select.shape "
   ]
  },
  {
   "cell_type": "code",
   "execution_count": null,
   "metadata": {},
   "outputs": [],
   "source": [
    "n_rounds = err_w_select.shape[1]\n",
    "T = n_rounds * 2\n",
    "fig,ax=plt.subplots()\n",
    "ax.errorbar(\n",
    "    range(2, T+1, 2), np.mean(err_w_select, axis=0)[:,0],\n",
    "    yerr = np.std(err_w_select,axis=0)[:,0], label='OLS w/ selection', color='orange', ecolor='wheat'\n",
    ")\n",
    "ax.errorbar(\n",
    "    range(2, T+1, 2), np.mean(err_w_select, axis=0)[:,1],\n",
    "    yerr = np.std(err_w_select,axis=0)[:,0], label='2SLS w/ selection', color='darkblue', ecolor='lightblue'\n",
    ")\n",
    "\n",
    "ax.errorbar(\n",
    "    range(2, T+1, 2), np.mean(err_wo_select, axis=0)[:,0],\n",
    "    yerr = np.std(err_wo_select,axis=0)[:,0], label='OLS w/o selection', color='red', ecolor='rosybrown'\n",
    ")\n",
    "ax.errorbar(\n",
    "    range(2, T+1, 2), np.mean(err_wo_select, axis=0)[:,1],\n",
    "    yerr = np.std(err_wo_select,axis=0)[:,1], label='2SLS w/o selection', color='green', ecolor='lightgreen'\n",
    ")\n",
    "ax.legend()\n",
    "ax.set_ylim(-.1, .25)\n",
    "ax.set_xlim(right =T-11)\n",
    "ax.grid()\n",
    "ax.axhline(y=0, color='k')\n",
    "ax.set_xlabel('students')\n",
    "ax.set_ylabel(r'$|| \\hat{\\theta^*} - \\theta^*|| $')\n",
    "# ax.set_yscale('log')\n",
    "plt.tight_layout()\n",
    "plt.savefig('experiments/plot1.pdf')"
   ]
  },
  {
   "cell_type": "code",
   "execution_count": null,
   "metadata": {},
   "outputs": [],
   "source": [
    "len([x for x in range(2, (n_rounds*2)+1, 2)])"
   ]
  },
  {
   "cell_type": "code",
   "execution_count": null,
   "metadata": {},
   "outputs": [],
   "source": [
    "with open('experiments/20230426-090949/data', 'rb') as f:\n",
    "    test= pickle.load(f)\n",
    "\n",
    "test.keys()"
   ]
  },
  {
   "cell_type": "code",
   "execution_count": null,
   "metadata": {},
   "outputs": [],
   "source": [
    "fig,ax=plt.subplots()\n",
    "\n",
    "# without selection data.\n",
    "with open(f'experiments/clipped-no-selection-yes-fixed-effort-matrix-d1-scaled-duplicates-round1000-obias10/data', 'rb') as f:\n",
    "    data = pickle.load(f)\n",
    "err = data['error_list_mean']\n",
    "# err = err[:]\n",
    "assert err.ndim == 3\n",
    "n_repeat, n_iters, _ = err.shape\n",
    "nr1 = n_repeat\n",
    "ax.errorbar(\n",
    "    range(n_iters), err.mean(axis=0)[:,0], yerr=err.std(axis=0)[:,0], label='OLS', color='red', ecolor='rosybrown'\n",
    ")\n",
    "ax.errorbar(\n",
    "    range(n_iters), err.mean(axis=0)[:,1], yerr=err.std(axis=0)[:,1], label='TSLS', color='green', ecolor='lightgreen'\n",
    ")\n",
    "ax.errorbar(\n",
    "    range(n_iters), err.mean(axis=0)[:,-1], yerr=err.std(axis=0)[:,-1], label='Ours', color='blue', ecolor='lightblue'\n",
    ")\n",
    "ax.legend() \n",
    "ax.axhline(y=0, color='k')\n",
    "ax.set_ylim(bottom=-0.1, top=1)\n",
    "# ax.set_xlim((3500,4000))\n",
    "# ax.set_ylim(bottom=-0.001, top=0.1)\n",
    "\n",
    "err"
   ]
  },
  {
   "cell_type": "code",
   "execution_count": null,
   "metadata": {},
   "outputs": [],
   "source": [
    "err.shape"
   ]
  },
  {
   "cell_type": "code",
   "execution_count": null,
   "metadata": {},
   "outputs": [],
   "source": [
    "err[:, -1, :].mean(axis=0), err[:, -1, :].max(axis=0),err[:, -1, :].min(axis=0)"
   ]
  },
  {
   "cell_type": "code",
   "execution_count": null,
   "metadata": {},
   "outputs": [],
   "source": [
    "import scipy.stats\n",
    "\n",
    "scipy.stats.ttest_ind(\n",
    "    err[:, -1, 2], \n",
    "    err[:, -1, 1], equal_var=False, nan_policy='raise'\n",
    ")\n"
   ]
  },
  {
   "cell_type": "code",
   "execution_count": null,
   "metadata": {},
   "outputs": [],
   "source": [
    "\n",
    "err[:, -1, :].min(axis=0)"
   ]
  },
  {
   "cell_type": "code",
   "execution_count": null,
   "metadata": {},
   "outputs": [],
   "source": [
    "err.shape"
   ]
  },
  {
   "cell_type": "code",
   "execution_count": null,
   "metadata": {},
   "outputs": [],
   "source": []
  }
 ],
 "metadata": {
  "kernelspec": {
   "display_name": "base",
   "language": "python",
   "name": "python3"
  },
  "language_info": {
   "codemirror_mode": {
    "name": "ipython",
    "version": 3
   },
   "file_extension": ".py",
   "mimetype": "text/x-python",
   "name": "python",
   "nbconvert_exporter": "python",
   "pygments_lexer": "ipython3",
   "version": "3.7.16"
  },
  "orig_nbformat": 4
 },
 "nbformat": 4,
 "nbformat_minor": 2
}
